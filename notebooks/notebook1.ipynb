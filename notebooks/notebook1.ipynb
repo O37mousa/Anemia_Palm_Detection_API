{
 "cells": [
  {
   "cell_type": "code",
   "execution_count": 2,
   "id": "02850c80",
   "metadata": {},
   "outputs": [],
   "source": [
    "import os\n",
    "import cv2\n",
    "import numpy as np\n",
    "from tqdm import tqdm\n",
    "from sklearn.utils import shuffle\n",
    "from tensorflow.keras.applications.mobilenet_v2 import preprocess_input\n",
    "from skimage.color import rgb2lab, rgb2gray\n",
    "from skimage import img_as_float\n",
    "from scipy.stats import skew, kurtosis\n"
   ]
  },
  {
   "cell_type": "code",
   "execution_count": 4,
   "id": "8fc3cf94",
   "metadata": {},
   "outputs": [],
   "source": [
    "ARTIFACT_FOLDER_PATH = os.path.join(os.getcwd(), \"..\", \"artifacts\")\n",
    "os.makedirs(ARTIFACT_FOLDER_PATH, exist_ok=True)"
   ]
  },
  {
   "cell_type": "code",
   "execution_count": 3,
   "id": "77c590bc",
   "metadata": {},
   "outputs": [
    {
     "ename": "ModuleNotFoundError",
     "evalue": "No module named 'utils.config'",
     "output_type": "error",
     "traceback": [
      "\u001b[1;31m---------------------------------------------------------------------------\u001b[0m",
      "\u001b[1;31mModuleNotFoundError\u001b[0m                       Traceback (most recent call last)",
      "Cell \u001b[1;32mIn[3], line 11\u001b[0m\n\u001b[0;32m      8\u001b[0m sys\u001b[38;5;241m.\u001b[39mpath\u001b[38;5;241m.\u001b[39mappend(os\u001b[38;5;241m.\u001b[39mpath\u001b[38;5;241m.\u001b[39mabspath(\u001b[38;5;124m\"\u001b[39m\u001b[38;5;124m.\u001b[39m\u001b[38;5;124m\"\u001b[39m))\n\u001b[0;32m     10\u001b[0m \u001b[38;5;66;03m# Import the feature extractor\u001b[39;00m\n\u001b[1;32m---> 11\u001b[0m \u001b[38;5;28;01mfrom\u001b[39;00m\u001b[38;5;250m \u001b[39m\u001b[38;5;21;01mutils\u001b[39;00m\u001b[38;5;21;01m.\u001b[39;00m\u001b[38;5;21;01mconfig\u001b[39;00m\u001b[38;5;250m \u001b[39m\u001b[38;5;28;01mimport\u001b[39;00m preprocess_image_array\n\u001b[0;32m     13\u001b[0m \u001b[38;5;66;03m# Load the trained model\u001b[39;00m\n\u001b[0;32m     14\u001b[0m model_path \u001b[38;5;241m=\u001b[39m \u001b[38;5;124m\"\u001b[39m\u001b[38;5;124martifacts/random_forest_classifier_palm.pkl\u001b[39m\u001b[38;5;124m\"\u001b[39m\n",
      "\u001b[1;31mModuleNotFoundError\u001b[0m: No module named 'utils.config'"
     ]
    }
   ],
   "source": [
    "import sys\n",
    "import os\n",
    "import cv2\n",
    "import joblib\n",
    "import numpy as np\n",
    "\n",
    "# Add the project root to the Python path\n",
    "sys.path.append(os.path.abspath(\".\"))\n",
    "\n",
    "# Import the feature extractor\n",
    "from utils.config import preprocess_image_array\n",
    "\n",
    "# Load the trained model\n",
    "model_path = \"artifacts/random_forest_classifier_palm.pkl\"\n",
    "model = joblib.load(model_path)\n",
    "\n",
    "# Load and preprocess the image\n",
    "img_path = r\"C:\\System\\Omar\\Omar Nile University\\Year 4\\Grad\\Mobile Application\\Anemia_Palm_Detection_API\\dataset\\Palm dataset\\Anemic\\Anemic-260 (2).png\"\n",
    "img = cv2.imread(img_path)\n",
    "\n",
    "if img is None:\n",
    "    raise FileNotFoundError(f\"Could not load image at path: {img_path}\")\n",
    "\n",
    "features = preprocess_image_array(img)\n",
    "\n",
    "# Check and reshape if needed\n",
    "if features.ndim == 1:\n",
    "    features = features.reshape(1, -1)\n",
    "\n",
    "# Model prediction\n",
    "prediction = model.predict(features)\n",
    "label = \"anemic\" if prediction[0] == 1 else \"non-anemic\"\n",
    "\n",
    "# Output result\n",
    "print(f\"Prediction: {prediction[0]} ({label})\")\n"
   ]
  }
 ],
 "metadata": {
  "kernelspec": {
   "display_name": "Python 3",
   "language": "python",
   "name": "python3"
  },
  "language_info": {
   "codemirror_mode": {
    "name": "ipython",
    "version": 3
   },
   "file_extension": ".py",
   "mimetype": "text/x-python",
   "name": "python",
   "nbconvert_exporter": "python",
   "pygments_lexer": "ipython3",
   "version": "3.10.11"
  }
 },
 "nbformat": 4,
 "nbformat_minor": 5
}
